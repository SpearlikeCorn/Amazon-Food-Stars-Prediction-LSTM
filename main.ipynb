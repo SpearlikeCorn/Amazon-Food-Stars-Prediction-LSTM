{
  "nbformat": 4,
  "nbformat_minor": 0,
  "metadata": {
    "kernelspec": {
      "name": "python3",
      "display_name": "Python 3"
    },
    "language_info": {
      "codemirror_mode": {
        "name": "ipython",
        "version": 3
      },
      "file_extension": ".py",
      "mimetype": "text/x-python",
      "name": "python",
      "nbconvert_exporter": "python",
      "pygments_lexer": "ipython3",
      "version": "3.6.6"
    },
    "colab": {
      "name": "main.ipynb",
      "provenance": [],
      "collapsed_sections": [],
      "machine_shape": "hm",
      "include_colab_link": true
    },
    "accelerator": "GPU"
  },
  "cells": [
    {
      "cell_type": "markdown",
      "metadata": {
        "id": "view-in-github",
        "colab_type": "text"
      },
      "source": [
        "<a href=\"https://colab.research.google.com/github/SpearlikeCorn/Amazon-Food-Stars-Prediction-LSTM/blob/master/main.ipynb\" target=\"_parent\"><img src=\"https://colab.research.google.com/assets/colab-badge.svg\" alt=\"Open In Colab\"/></a>"
      ]
    },
    {
      "cell_type": "code",
      "metadata": {
        "id": "qiqODEj0mas2",
        "colab_type": "code",
        "outputId": "49586dd5-c6d6-490b-a791-4ac302ece113",
        "colab": {
          "base_uri": "https://localhost:8080/",
          "height": 35
        }
      },
      "source": [
        "from google.colab import drive\n",
        "drive.mount('/content/drive')"
      ],
      "execution_count": 40,
      "outputs": [
        {
          "output_type": "stream",
          "text": [
            "Drive already mounted at /content/drive; to attempt to forcibly remount, call drive.mount(\"/content/drive\", force_remount=True).\n"
          ],
          "name": "stdout"
        }
      ]
    },
    {
      "cell_type": "code",
      "metadata": {
        "id": "HfjQhRwvk34b",
        "colab_type": "code",
        "colab": {}
      },
      "source": [
        "import pandas as pd\n",
        "import numpy as np\n",
        "import matplotlib.pyplot as plt\n",
        "import seaborn as sns\n",
        "\n",
        "from sklearn.model_selection import train_test_split\n",
        "from sklearn.feature_extraction.text import CountVectorizer\n",
        "from nltk.tokenize import RegexpTokenizer\n",
        "from sklearn.tree import DecisionTreeClassifier\n",
        "from sklearn.model_selection import GridSearchCV\n",
        "\n",
        "from tensorflow.keras.preprocessing.text import Tokenizer\n",
        "from tensorflow.keras.preprocessing.sequence import pad_sequences\n",
        "from tensorflow.keras.layers import Embedding, LSTM, Dense, Dropout, SpatialDropout1D\n",
        "from tensorflow.keras import Model, Input, Sequential\n",
        "from tensorflow.keras.preprocessing.sequence import pad_sequences\n",
        "from tensorflow.keras.utils import to_categorical\n",
        "from tensorflow.keras.callbacks import EarlyStopping, ModelCheckpoint\n",
        "\n",
        "from tensorflow.keras.losses import categorical_crossentropy\n",
        "import tensorflow as tf\n",
        "from keras.wrappers.scikit_learn import KerasClassifier"
      ],
      "execution_count": 0,
      "outputs": []
    },
    {
      "cell_type": "markdown",
      "metadata": {
        "id": "zGvUxC4Tk34m",
        "colab_type": "text"
      },
      "source": [
        "# Loading the data"
      ]
    },
    {
      "cell_type": "code",
      "metadata": {
        "id": "ZJlk-WdBk34o",
        "colab_type": "code",
        "colab": {}
      },
      "source": [
        "data = pd.read_csv(\"/content/drive/My Drive/Colab Notebooks/Stars_prediction/Reviews.csv\")"
      ],
      "execution_count": 0,
      "outputs": []
    },
    {
      "cell_type": "markdown",
      "metadata": {
        "id": "-i4GEKe-k34x",
        "colab_type": "text"
      },
      "source": [
        "# Data analysis"
      ]
    },
    {
      "cell_type": "code",
      "metadata": {
        "id": "pcMJosALk34z",
        "colab_type": "code",
        "outputId": "c1896ce2-d491-4144-95a4-94c793166acf",
        "colab": {
          "base_uri": "https://localhost:8080/",
          "height": 206
        }
      },
      "source": [
        "data.head()"
      ],
      "execution_count": 43,
      "outputs": [
        {
          "output_type": "execute_result",
          "data": {
            "text/html": [
              "<div>\n",
              "<style scoped>\n",
              "    .dataframe tbody tr th:only-of-type {\n",
              "        vertical-align: middle;\n",
              "    }\n",
              "\n",
              "    .dataframe tbody tr th {\n",
              "        vertical-align: top;\n",
              "    }\n",
              "\n",
              "    .dataframe thead th {\n",
              "        text-align: right;\n",
              "    }\n",
              "</style>\n",
              "<table border=\"1\" class=\"dataframe\">\n",
              "  <thead>\n",
              "    <tr style=\"text-align: right;\">\n",
              "      <th></th>\n",
              "      <th>Id</th>\n",
              "      <th>ProductId</th>\n",
              "      <th>UserId</th>\n",
              "      <th>ProfileName</th>\n",
              "      <th>HelpfulnessNumerator</th>\n",
              "      <th>HelpfulnessDenominator</th>\n",
              "      <th>Score</th>\n",
              "      <th>Time</th>\n",
              "      <th>Summary</th>\n",
              "      <th>Text</th>\n",
              "    </tr>\n",
              "  </thead>\n",
              "  <tbody>\n",
              "    <tr>\n",
              "      <th>0</th>\n",
              "      <td>1</td>\n",
              "      <td>B001E4KFG0</td>\n",
              "      <td>A3SGXH7AUHU8GW</td>\n",
              "      <td>delmartian</td>\n",
              "      <td>1</td>\n",
              "      <td>1</td>\n",
              "      <td>5</td>\n",
              "      <td>1303862400</td>\n",
              "      <td>Good Quality Dog Food</td>\n",
              "      <td>I have bought several of the Vitality canned d...</td>\n",
              "    </tr>\n",
              "    <tr>\n",
              "      <th>1</th>\n",
              "      <td>2</td>\n",
              "      <td>B00813GRG4</td>\n",
              "      <td>A1D87F6ZCVE5NK</td>\n",
              "      <td>dll pa</td>\n",
              "      <td>0</td>\n",
              "      <td>0</td>\n",
              "      <td>1</td>\n",
              "      <td>1346976000</td>\n",
              "      <td>Not as Advertised</td>\n",
              "      <td>Product arrived labeled as Jumbo Salted Peanut...</td>\n",
              "    </tr>\n",
              "    <tr>\n",
              "      <th>2</th>\n",
              "      <td>3</td>\n",
              "      <td>B000LQOCH0</td>\n",
              "      <td>ABXLMWJIXXAIN</td>\n",
              "      <td>Natalia Corres \"Natalia Corres\"</td>\n",
              "      <td>1</td>\n",
              "      <td>1</td>\n",
              "      <td>4</td>\n",
              "      <td>1219017600</td>\n",
              "      <td>\"Delight\" says it all</td>\n",
              "      <td>This is a confection that has been around a fe...</td>\n",
              "    </tr>\n",
              "    <tr>\n",
              "      <th>3</th>\n",
              "      <td>4</td>\n",
              "      <td>B000UA0QIQ</td>\n",
              "      <td>A395BORC6FGVXV</td>\n",
              "      <td>Karl</td>\n",
              "      <td>3</td>\n",
              "      <td>3</td>\n",
              "      <td>2</td>\n",
              "      <td>1307923200</td>\n",
              "      <td>Cough Medicine</td>\n",
              "      <td>If you are looking for the secret ingredient i...</td>\n",
              "    </tr>\n",
              "    <tr>\n",
              "      <th>4</th>\n",
              "      <td>5</td>\n",
              "      <td>B006K2ZZ7K</td>\n",
              "      <td>A1UQRSCLF8GW1T</td>\n",
              "      <td>Michael D. Bigham \"M. Wassir\"</td>\n",
              "      <td>0</td>\n",
              "      <td>0</td>\n",
              "      <td>5</td>\n",
              "      <td>1350777600</td>\n",
              "      <td>Great taffy</td>\n",
              "      <td>Great taffy at a great price.  There was a wid...</td>\n",
              "    </tr>\n",
              "  </tbody>\n",
              "</table>\n",
              "</div>"
            ],
            "text/plain": [
              "   Id  ...                                               Text\n",
              "0   1  ...  I have bought several of the Vitality canned d...\n",
              "1   2  ...  Product arrived labeled as Jumbo Salted Peanut...\n",
              "2   3  ...  This is a confection that has been around a fe...\n",
              "3   4  ...  If you are looking for the secret ingredient i...\n",
              "4   5  ...  Great taffy at a great price.  There was a wid...\n",
              "\n",
              "[5 rows x 10 columns]"
            ]
          },
          "metadata": {
            "tags": []
          },
          "execution_count": 43
        }
      ]
    },
    {
      "cell_type": "markdown",
      "metadata": {
        "id": "HtQPZ3qck348",
        "colab_type": "text"
      },
      "source": [
        "Columns inside the data frame:\n",
        "- Id: unique key for review, not useful in the analysis\n",
        "- ProductId: unique key for review, might be useful, but not essential\n",
        "- UserId: unique profile name for user, either provides information or provides miss information\n",
        "- HelpfulnessNumerator: Number of users who found the review helpful, might be useful\n",
        "- HelpfulnessDenominator: Number of users who indicated whether they found the review helpful or not, also might be helpful\n",
        "- Score: Rating between 1 and 5, y variable to predict\n",
        "- Time: Timestamp for the review, might be useful\n",
        "- Summary: Brief summary of the review\n",
        "- Text: Text of the review, main variable to base prediction on"
      ]
    },
    {
      "cell_type": "markdown",
      "metadata": {
        "id": "pHcyoojIk349",
        "colab_type": "text"
      },
      "source": [
        "Let's look for the missing data."
      ]
    },
    {
      "cell_type": "code",
      "metadata": {
        "id": "ne9kC_wfk34-",
        "colab_type": "code",
        "outputId": "f81b7926-eca4-4558-d07e-c2b725492a47",
        "colab": {
          "base_uri": "https://localhost:8080/",
          "height": 219
        }
      },
      "source": [
        "data.isnull().sum()"
      ],
      "execution_count": 44,
      "outputs": [
        {
          "output_type": "execute_result",
          "data": {
            "text/plain": [
              "Id                         0\n",
              "ProductId                  0\n",
              "UserId                     0\n",
              "ProfileName               16\n",
              "HelpfulnessNumerator       0\n",
              "HelpfulnessDenominator     0\n",
              "Score                      0\n",
              "Time                       0\n",
              "Summary                   27\n",
              "Text                       0\n",
              "dtype: int64"
            ]
          },
          "metadata": {
            "tags": []
          },
          "execution_count": 44
        }
      ]
    },
    {
      "cell_type": "markdown",
      "metadata": {
        "id": "RmdYLpipk35F",
        "colab_type": "text"
      },
      "source": [
        "Some data is missing only in case of ProfileName and Summary which is not essential part of the prediction. I will fill missing values with empty strings."
      ]
    },
    {
      "cell_type": "code",
      "metadata": {
        "id": "B8Dz6HYAk35G",
        "colab_type": "code",
        "outputId": "acfc76b4-b97f-4ae2-b99c-aaac1e5ebcca",
        "colab": {
          "base_uri": "https://localhost:8080/",
          "height": 219
        }
      },
      "source": [
        "data.replace(np.nan, '', regex=True, inplace=True)\n",
        "data.isnull().sum()"
      ],
      "execution_count": 45,
      "outputs": [
        {
          "output_type": "execute_result",
          "data": {
            "text/plain": [
              "Id                        0\n",
              "ProductId                 0\n",
              "UserId                    0\n",
              "ProfileName               0\n",
              "HelpfulnessNumerator      0\n",
              "HelpfulnessDenominator    0\n",
              "Score                     0\n",
              "Time                      0\n",
              "Summary                   0\n",
              "Text                      0\n",
              "dtype: int64"
            ]
          },
          "metadata": {
            "tags": []
          },
          "execution_count": 45
        }
      ]
    },
    {
      "cell_type": "markdown",
      "metadata": {
        "id": "sT3Q9VSzk35N",
        "colab_type": "text"
      },
      "source": [
        "Let's look at the stars distributions"
      ]
    },
    {
      "cell_type": "code",
      "metadata": {
        "id": "Wj6Xxrsuk35O",
        "colab_type": "code",
        "outputId": "43cc5d4b-8089-43ce-92b9-3320919ce4d6",
        "colab": {
          "base_uri": "https://localhost:8080/",
          "height": 280
        }
      },
      "source": [
        "data['Score'].value_counts(dropna=False).sort_index().plot(kind='bar')"
      ],
      "execution_count": 46,
      "outputs": [
        {
          "output_type": "execute_result",
          "data": {
            "text/plain": [
              "<matplotlib.axes._subplots.AxesSubplot at 0x7f9208da7780>"
            ]
          },
          "metadata": {
            "tags": []
          },
          "execution_count": 46
        },
        {
          "output_type": "display_data",
          "data": {
            "image/png": "[encoded data removed]",
            "text/plain": [
              "<Figure size 432x288 with 1 Axes>"
            ]
          },
          "metadata": {
            "tags": []
          }
        }
      ]
    },
    {
      "cell_type": "markdown",
      "metadata": {
        "id": "KC-leQJMk35U",
        "colab_type": "text"
      },
      "source": [
        "There is clearly an 5 stars scores domination within given data. "
      ]
    },
    {
      "cell_type": "markdown",
      "metadata": {
        "id": "CwsGeDYjk35U",
        "colab_type": "text"
      },
      "source": [
        "# Data pre-processing\n",
        "I want to predict the number of stars based on the content of the review."
      ]
    },
    {
      "cell_type": "code",
      "metadata": {
        "id": "qF6K-JkwEplh",
        "colab_type": "code",
        "colab": {}
      },
      "source": [
        "X = data['Text']\n",
        "y = data['Score']\n",
        "\n",
        "words = 10000\n",
        "maxlen = 200\n",
        "\n",
        "# initiailize tokenizer\n",
        "token = Tokenizer(num_words=words)\n",
        "token.fit_on_texts(X)\n",
        "\n",
        "# prepare y for softmax function\n",
        "y = to_categorical(y-1)\n",
        "\n",
        "# split train, valid and test\n",
        "X_train, X_test, y_train, y_test = train_test_split(X, y, test_size=0.2, random_state=42)\n",
        "X_train, X_valid, y_train, y_valid = train_test_split(X_train, y_train, test_size=0.3, random_state=42)\n",
        "\n",
        "# tokenize words\n",
        "X_train_seq = token.texts_to_sequences(X_train)\n",
        "X_valid_seq = token.texts_to_sequences(X_valid)\n",
        "X_test_seq = token.texts_to_sequences(X_test)\n",
        "\n",
        "X_train_seq_padded = pad_sequences(X_train_seq, maxlen=maxlen)\n",
        "X_val_seq_padded  = pad_sequences(X_valid_seq, maxlen=maxlen)\n",
        "X_test_seq_padded  = pad_sequences(X_test_seq, maxlen=maxlen)"
      ],
      "execution_count": 0,
      "outputs": []
    },
    {
      "cell_type": "code",
      "metadata": {
        "id": "b8muya00S0Zt",
        "colab_type": "code",
        "outputId": "2723386c-bfbf-4ce6-d053-2caac4069f9d",
        "colab": {
          "base_uri": "https://localhost:8080/",
          "height": 90
        }
      },
      "source": [
        "# Analyze lenghts of the sequencees\n",
        "train_a = [len(i) for i in X_train_seq]\n",
        "print('Minimum lenght: ', min(train_a))\n",
        "print('Maximum lenght: ', max(train_a))\n",
        "print('Mean lenghts: ', np.mean(train_a))\n",
        "print('Median lenghts: ', np.median(train_a))"
      ],
      "execution_count": 49,
      "outputs": [
        {
          "output_type": "stream",
          "text": [
            "Minimum lenght:  0\n",
            "Maximum lenght:  3292\n",
            "Mean lenghts:  79.95744720953464\n",
            "Median lenghts:  56.0\n"
          ],
          "name": "stdout"
        }
      ]
    },
    {
      "cell_type": "markdown",
      "metadata": {
        "id": "MpCNkhB9YPqJ",
        "colab_type": "text"
      },
      "source": [
        "The text with 3292 words seems to be an outlier."
      ]
    },
    {
      "cell_type": "code",
      "metadata": {
        "id": "Nr7yCLtvYGG-",
        "colab_type": "code",
        "outputId": "f2ae42ba-0753-48e7-a445-3cd29b6714e1",
        "colab": {
          "base_uri": "https://localhost:8080/",
          "height": 265
        }
      },
      "source": [
        "plt.hist(train_a, bins=30)\n",
        "plt.show()"
      ],
      "execution_count": 50,
      "outputs": [
        {
          "output_type": "display_data",
          "data": {
            "image/png": "[encoded data removed]",
            "text/plain": [
              "<Figure size 432x288 with 1 Axes>"
            ]
          },
          "metadata": {
            "tags": []
          }
        }
      ]
    },
    {
      "cell_type": "code",
      "metadata": {
        "id": "WLrA5fREWNGo",
        "colab_type": "code",
        "outputId": "7d1d505f-67c7-4788-ab0a-a87d81bc8846",
        "colab": {
          "base_uri": "https://localhost:8080/",
          "height": 35
        }
      },
      "source": [
        "# How many categories\n",
        "y.shape"
      ],
      "execution_count": 51,
      "outputs": [
        {
          "output_type": "execute_result",
          "data": {
            "text/plain": [
              "(568454, 5)"
            ]
          },
          "metadata": {
            "tags": []
          },
          "execution_count": 51
        }
      ]
    },
    {
      "cell_type": "markdown",
      "metadata": {
        "id": "VfcigNj_PZfX",
        "colab_type": "text"
      },
      "source": [
        "# Tunning the model\n"
      ]
    },
    {
      "cell_type": "code",
      "metadata": {
        "id": "mPAqbT82N5i8",
        "colab_type": "code",
        "colab": {}
      },
      "source": [
        "def create_model(number_layer, number_lstm, number_dense, number_embedding, dropout_rate, learning_rate, max_text_len=800):\n",
        "  model = Sequential()\n",
        "  model.add(Embedding(words, number_embedding, input_length=max_text_len))\n",
        "  model.add(SpatialDropout1D(0.2))\n",
        "  for n in range(1,number_layer+1):\n",
        "    if n != number_layer:\n",
        "      model.add(LSTM(units=number_lstm, dropout=0.3, return_sequences=True))\n",
        "    else:  \n",
        "      model.add(LSTM(units=number_lstm, dropout=0.3))\n",
        "  model.add(Dense(number_dense, activation=\"relu\"))\n",
        "  model.add(Dropout(dropout_rate))\n",
        "  model.add(Dense(5, activation=\"softmax\"))\n",
        "  optimizer = tf.keras.optimizers.Adam(learning_rate=learning_rate)\n",
        "  model.compile(optimizer=optimizer, loss='categorical_crossentropy', metrics=[\"acc\"])\n",
        "  return model"
      ],
      "execution_count": 0,
      "outputs": []
    },
    {
      "cell_type": "code",
      "metadata": {
        "id": "pCpevxG0j9nt",
        "colab_type": "code",
        "outputId": "7d6b3f3a-335b-4d69-8c3d-abd89c052d25",
        "colab": {
          "base_uri": "https://localhost:8080/",
          "height": 35
        }
      },
      "source": [
        "np.array(X_train_seq_padded).shape"
      ],
      "execution_count": 53,
      "outputs": [
        {
          "output_type": "execute_result",
          "data": {
            "text/plain": [
              "(318334, 200)"
            ]
          },
          "metadata": {
            "tags": []
          },
          "execution_count": 53
        }
      ]
    },
    {
      "cell_type": "code",
      "metadata": {
        "id": "PKLFE9jMVWA3",
        "colab_type": "code",
        "colab": {}
      },
      "source": [
        "# Define parameters\n",
        "params = {\n",
        "    'number_layer': [1],\n",
        "    'number_lstm': [32, 64],\n",
        "    'number_dense': [100, 1000],\n",
        "    'number_embedding': [5, 32],\n",
        "    'dropout_rate': [0.4],\n",
        "    'learning_rate': [0.01],\n",
        "    'max_text_len': [maxlen]\n",
        "}"
      ],
      "execution_count": 0,
      "outputs": []
    },
    {
      "cell_type": "code",
      "metadata": {
        "id": "2Vu_N_U3Yr1i",
        "colab_type": "code",
        "colab": {}
      },
      "source": [
        "model = KerasClassifier(build_fn=create_model, epochs=5, batch_size=100, verbose=1)\n",
        "grid = GridSearchCV(estimator=model, param_grid=params, cv=3, verbose=1)\n",
        "grid_result = grid.fit(X_train_seq_padded, y_train)"
      ],
      "execution_count": 0,
      "outputs": []
    },
    {
      "cell_type": "code",
      "metadata": {
        "id": "2_6u6994pIix",
        "colab_type": "code",
        "colab": {}
      },
      "source": [
        "print(\"Best: %f using %s\" % (grid_result.best_score_, grid_result.best_params_))"
      ],
      "execution_count": 0,
      "outputs": []
    },
    {
      "cell_type": "markdown",
      "metadata": {
        "id": "0M4e7l25pyos",
        "colab_type": "text"
      },
      "source": [
        "# Train model on given parameters"
      ]
    },
    {
      "cell_type": "code",
      "metadata": {
        "id": "6i7yHCe7pxqZ",
        "colab_type": "code",
        "outputId": "42eb59e7-76b8-49f0-f5c2-60a1c0328f74",
        "colab": {
          "base_uri": "https://localhost:8080/",
          "height": 1000
        }
      },
      "source": [
        "# define model\n",
        "model = create_model(1,64,1000,32,0.4,0.01,maxlen)\n",
        "\n",
        "# define callbacks\n",
        "Checkpoint = ModelCheckpoint(\"/content/drive/My Drive/Colab Notebooks/Stars_prediction/model_checkpoint.h5\", monitor='val_loss', verbose=1, save_best_only=True)\n",
        "Early_Stopping = EarlyStopping(monitor='val_loss', mode='min', verbose=1, patience=5)\n",
        "\n",
        "# fit the model\n",
        "history = model.fit(X_train_seq_padded, np.array(y_train), batch_size=300, epochs=100, \n",
        "          validation_data=(X_val_seq_padded, y_valid), callbacks=[Checkpoint,Early_Stopping])\n",
        "\n",
        "# save created model\n",
        "model.save_weights(\"/content/drive/My Drive/Colab Notebooks/Stars_prediction/model.h5\")"
      ],
      "execution_count": 0,
      "outputs": [
        {
          "output_type": "stream",
          "text": [
            "Epoch 1/100\n",
            "1062/1062 [==============================] - ETA: 0s - loss: 0.7999 - acc: 0.7064\n",
            "Epoch 00001: val_loss improved from inf to 0.69205, saving model to /content/drive/My Drive/Colab Notebooks/Stars_prediction/model_checkpoint.h5\n",
            "1062/1062 [==============================] - 60s 57ms/step - loss: 0.7999 - acc: 0.7064 - val_loss: 0.6921 - val_acc: 0.7395\n",
            "Epoch 2/100\n",
            "1061/1062 [============================>.] - ETA: 0s - loss: 0.6724 - acc: 0.7470\n",
            "Epoch 00002: val_loss improved from 0.69205 to 0.63510, saving model to /content/drive/My Drive/Colab Notebooks/Stars_prediction/model_checkpoint.h5\n",
            "1062/1062 [==============================] - 63s 60ms/step - loss: 0.6723 - acc: 0.7471 - val_loss: 0.6351 - val_acc: 0.7599\n",
            "Epoch 3/100\n",
            "1061/1062 [============================>.] - ETA: 0s - loss: 0.6412 - acc: 0.7581\n",
            "Epoch 00003: val_loss improved from 0.63510 to 0.61839, saving model to /content/drive/My Drive/Colab Notebooks/Stars_prediction/model_checkpoint.h5\n",
            "1062/1062 [==============================] - 66s 62ms/step - loss: 0.6411 - acc: 0.7581 - val_loss: 0.6184 - val_acc: 0.7673\n",
            "Epoch 4/100\n",
            "1062/1062 [==============================] - ETA: 0s - loss: 0.6220 - acc: 0.7642\n",
            "Epoch 00004: val_loss improved from 0.61839 to 0.61279, saving model to /content/drive/My Drive/Colab Notebooks/Stars_prediction/model_checkpoint.h5\n",
            "1062/1062 [==============================] - 62s 58ms/step - loss: 0.6220 - acc: 0.7642 - val_loss: 0.6128 - val_acc: 0.7702\n",
            "Epoch 5/100\n",
            "1061/1062 [============================>.] - ETA: 0s - loss: 0.6109 - acc: 0.7690\n",
            "Epoch 00005: val_loss improved from 0.61279 to 0.60373, saving model to /content/drive/My Drive/Colab Notebooks/Stars_prediction/model_checkpoint.h5\n",
            "1062/1062 [==============================] - 66s 62ms/step - loss: 0.6107 - acc: 0.7690 - val_loss: 0.6037 - val_acc: 0.7741\n",
            "Epoch 6/100\n",
            "1062/1062 [==============================] - ETA: 0s - loss: 0.6029 - acc: 0.7726\n",
            "Epoch 00006: val_loss did not improve from 0.60373\n",
            "1062/1062 [==============================] - 65s 61ms/step - loss: 0.6029 - acc: 0.7726 - val_loss: 0.6115 - val_acc: 0.7744\n",
            "Epoch 7/100\n",
            "1061/1062 [============================>.] - ETA: 0s - loss: 0.5936 - acc: 0.7761\n",
            "Epoch 00007: val_loss did not improve from 0.60373\n",
            "1062/1062 [==============================] - 65s 61ms/step - loss: 0.5935 - acc: 0.7761 - val_loss: 0.6065 - val_acc: 0.7769\n",
            "Epoch 8/100\n",
            "1061/1062 [============================>.] - ETA: 0s - loss: 0.5889 - acc: 0.7783\n",
            "Epoch 00008: val_loss did not improve from 0.60373\n",
            "1062/1062 [==============================] - 65s 61ms/step - loss: 0.5890 - acc: 0.7783 - val_loss: 0.6106 - val_acc: 0.7735\n",
            "Epoch 9/100\n",
            "1061/1062 [============================>.] - ETA: 0s - loss: 0.5858 - acc: 0.7784\n",
            "Epoch 00009: val_loss did not improve from 0.60373\n",
            "1062/1062 [==============================] - 63s 60ms/step - loss: 0.5856 - acc: 0.7784 - val_loss: 0.6112 - val_acc: 0.7760\n",
            "Epoch 10/100\n",
            "1061/1062 [============================>.] - ETA: 0s - loss: 0.5811 - acc: 0.7808\n",
            "Epoch 00010: val_loss improved from 0.60373 to 0.59265, saving model to /content/drive/My Drive/Colab Notebooks/Stars_prediction/model_checkpoint.h5\n",
            "1062/1062 [==============================] - 69s 65ms/step - loss: 0.5812 - acc: 0.7808 - val_loss: 0.5926 - val_acc: 0.7811\n",
            "Epoch 11/100\n",
            "1061/1062 [============================>.] - ETA: 0s - loss: 0.5794 - acc: 0.7824\n",
            "Epoch 00011: val_loss improved from 0.59265 to 0.59111, saving model to /content/drive/My Drive/Colab Notebooks/Stars_prediction/model_checkpoint.h5\n",
            "1062/1062 [==============================] - 66s 62ms/step - loss: 0.5798 - acc: 0.7824 - val_loss: 0.5911 - val_acc: 0.7816\n",
            "Epoch 12/100\n",
            "1062/1062 [==============================] - ETA: 0s - loss: 0.5752 - acc: 0.7834\n",
            "Epoch 00012: val_loss did not improve from 0.59111\n",
            "1062/1062 [==============================] - 58s 55ms/step - loss: 0.5752 - acc: 0.7834 - val_loss: 0.6275 - val_acc: 0.7775\n",
            "Epoch 13/100\n",
            "1061/1062 [============================>.] - ETA: 0s - loss: 0.5739 - acc: 0.7838\n",
            "Epoch 00013: val_loss did not improve from 0.59111\n",
            "1062/1062 [==============================] - 59s 56ms/step - loss: 0.5738 - acc: 0.7838 - val_loss: 0.6066 - val_acc: 0.7812\n",
            "Epoch 14/100\n",
            "1061/1062 [============================>.] - ETA: 0s - loss: 0.5709 - acc: 0.7848\n",
            "Epoch 00014: val_loss did not improve from 0.59111\n",
            "1062/1062 [==============================] - 66s 62ms/step - loss: 0.5709 - acc: 0.7848 - val_loss: 0.5930 - val_acc: 0.7818\n",
            "Epoch 15/100\n",
            "1061/1062 [============================>.] - ETA: 0s - loss: 0.5699 - acc: 0.7853\n",
            "Epoch 00015: val_loss did not improve from 0.59111\n",
            "1062/1062 [==============================] - 61s 58ms/step - loss: 0.5698 - acc: 0.7853 - val_loss: 0.5923 - val_acc: 0.7821\n",
            "Epoch 16/100\n",
            "1061/1062 [============================>.] - ETA: 0s - loss: 0.5662 - acc: 0.7867\n",
            "Epoch 00016: val_loss did not improve from 0.59111\n",
            "1062/1062 [==============================] - 67s 63ms/step - loss: 0.5662 - acc: 0.7867 - val_loss: 0.5978 - val_acc: 0.7830\n",
            "Epoch 00016: early stopping\n"
          ],
          "name": "stdout"
        }
      ]
    },
    {
      "cell_type": "code",
      "metadata": {
        "id": "w17YVZM7zwZ8",
        "colab_type": "code",
        "outputId": "461ff32c-36a5-4ce4-d06b-8fbe9282ac93",
        "colab": {
          "base_uri": "https://localhost:8080/",
          "height": 295
        }
      },
      "source": [
        "plt.plot(history.history['acc'])\n",
        "plt.plot(history.history['val_acc'])\n",
        "plt.title('model accuracy')\n",
        "plt.ylabel('accuracy')\n",
        "plt.xlabel('epoch')\n",
        "plt.legend(['train', 'val'], loc='upper left')\n",
        "plt.show()"
      ],
      "execution_count": 0,
      "outputs": [
        {
          "output_type": "display_data",
          "data": {
            "image/png": "[encoded data removed]",
            "text/plain": [
              "<Figure size 432x288 with 1 Axes>"
            ]
          },
          "metadata": {
            "tags": []
          }
        }
      ]
    },
    {
      "cell_type": "code",
      "metadata": {
        "id": "TRhHjE-K8pWZ",
        "colab_type": "code",
        "outputId": "affe2b5c-9527-445f-f1d1-2bcf5307a5fe",
        "colab": {
          "base_uri": "https://localhost:8080/",
          "height": 35
        }
      },
      "source": [
        "model = create_model(1,64,1000,32,0.4,0.01,maxlen)\n",
        "model.load_weights(\"/content/drive/My Drive/Colab Notebooks/Stars_prediction/model.h5\")\n",
        "pred = model.predict(X_test_seq_padded, 100, verbose=1)"
      ],
      "execution_count": 55,
      "outputs": [
        {
          "output_type": "stream",
          "text": [
            "1137/1137 [==============================] - 16s 14ms/step\n"
          ],
          "name": "stdout"
        }
      ]
    },
    {
      "cell_type": "code",
      "metadata": {
        "id": "dyx3Typ7AnCQ",
        "colab_type": "code",
        "colab": {
          "base_uri": "https://localhost:8080/",
          "height": 700
        },
        "outputId": "4d9dab58-5e65-435b-c633-9025d241aa60"
      },
      "source": [
        "from sklearn.metrics import confusion_matrix\n",
        "import seaborn as sns\n",
        "\n",
        "y_true = np.argmax(y_test, axis = 1).tolist()\n",
        "y_pred = np.argmax(pred, axis = 1).tolist()\n",
        "matrix = confusion_matrix(y_true, y_pred)\n",
        "plt.figure(figsize=(12,12))\n",
        "sns.heatmap(matrix,cbar=True)\n",
        "plt.show()"
      ],
      "execution_count": 73,
      "outputs": [
        {
          "output_type": "display_data",
          "data": {
            "image/png": "[encoded data removed]",
            "text/plain": [
              "<Figure size 864x864 with 2 Axes>"
            ]
          },
          "metadata": {
            "tags": []
          }
        }
      ]
    },
    {
      "cell_type": "code",
      "metadata": {
        "id": "2mIrdQhHEa-p",
        "colab_type": "code",
        "colab": {
          "base_uri": "https://localhost:8080/",
          "height": 237
        },
        "outputId": "3d99730c-e55e-4ac7-e855-5c2ea6d657b4"
      },
      "source": [
        "from sklearn.metrics import classification_report\n",
        "\n",
        "print(classification_report(y_true, y_pred))"
      ],
      "execution_count": 75,
      "outputs": [
        {
          "output_type": "stream",
          "text": [
            "              precision    recall  f1-score   support\n",
            "\n",
            "           0       0.71      0.76      0.73     10326\n",
            "           1       0.56      0.27      0.37      5855\n",
            "           2       0.54      0.44      0.48      8485\n",
            "           3       0.63      0.32      0.43     16123\n",
            "           4       0.83      0.97      0.90     72902\n",
            "\n",
            "    accuracy                           0.78    113691\n",
            "   macro avg       0.65      0.55      0.58    113691\n",
            "weighted avg       0.76      0.78      0.76    113691\n",
            "\n"
          ],
          "name": "stdout"
        }
      ]
    },
    {
      "cell_type": "markdown",
      "metadata": {
        "id": "vf69Tg_-B9Tz",
        "colab_type": "text"
      },
      "source": [
        "Given model returns quite good results. The main problem of created model is that it is more likely to predict the 5 stars then any other class. The 5 star rewievs are predicted with 97% of recall and 1 star reviews are predicted with 76% of recall. But for 2,3,4 stars predictions there is a problem becuse we were lacking data in this categories. "
      ]
    }
  ]
}